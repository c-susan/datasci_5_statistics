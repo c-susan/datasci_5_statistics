{
  "nbformat": 4,
  "nbformat_minor": 0,
  "metadata": {
    "colab": {
      "provenance": [],
      "collapsed_sections": [
        "MF2-Kjaz_RKt",
        "VmsfY69y2T8t",
        "rdhXRgSu2bE8"
      ],
      "authorship_tag": "ABX9TyO/1dhc8Riar3EEwHmNz1vb",
      "include_colab_link": true
    },
    "kernelspec": {
      "name": "ir",
      "display_name": "R"
    },
    "language_info": {
      "name": "R"
    }
  },
  "cells": [
    {
      "cell_type": "markdown",
      "metadata": {
        "id": "view-in-github",
        "colab_type": "text"
      },
      "source": [
        "<a href=\"https://colab.research.google.com/github/c-susan/datasci_5_statistics/blob/main/r_statistics.ipynb\" target=\"_parent\"><img src=\"https://colab.research.google.com/assets/colab-badge.svg\" alt=\"Open In Colab\"/></a>"
      ]
    },
    {
      "cell_type": "markdown",
      "source": [
        "## Loading Package(s)"
      ],
      "metadata": {
        "id": "MF2-Kjaz_RKt"
      }
    },
    {
      "cell_type": "code",
      "source": [
        "library(dplyr)\n",
        "library(ggplot2)"
      ],
      "metadata": {
        "id": "SLOsu-cC_Rtk"
      },
      "execution_count": 58,
      "outputs": []
    },
    {
      "cell_type": "markdown",
      "source": [
        "## **1. Chi-Square Test**"
      ],
      "metadata": {
        "id": "VmsfY69y2T8t"
      }
    },
    {
      "cell_type": "code",
      "execution_count": 32,
      "metadata": {
        "colab": {
          "base_uri": "https://localhost:8080/",
          "height": 252
        },
        "id": "A1rDPlky1EgT",
        "outputId": "e34a82c3-d821-4318-bfbc-d991a90bc1d1"
      },
      "outputs": [
        {
          "output_type": "display_data",
          "data": {
            "text/html": [
              "<table class=\"dataframe\">\n",
              "<caption>A data.frame: 5 × 7</caption>\n",
              "<thead>\n",
              "\t<tr><th scope=col>NPI</th><th scope=col>LAST_NAME</th><th scope=col>FIRST_NAME</th><th scope=col>PARTB</th><th scope=col>DME</th><th scope=col>HHA</th><th scope=col>PMD</th></tr>\n",
              "\t<tr><th scope=col>&lt;int&gt;</th><th scope=col>&lt;chr&gt;</th><th scope=col>&lt;chr&gt;</th><th scope=col>&lt;chr&gt;</th><th scope=col>&lt;chr&gt;</th><th scope=col>&lt;chr&gt;</th><th scope=col>&lt;chr&gt;</th></tr>\n",
              "</thead>\n",
              "<tbody>\n",
              "\t<tr><td>1841831351</td><td>BOCTOR </td><td>MELISSA</td><td>Y</td><td>Y</td><td>Y</td><td>Y</td></tr>\n",
              "\t<tr><td>1487114781</td><td>STROBEL</td><td>RAYMOND</td><td>Y</td><td>Y</td><td>Y</td><td>Y</td></tr>\n",
              "\t<tr><td>1578584322</td><td>MADDEN </td><td>MARK   </td><td>Y</td><td>Y</td><td>Y</td><td>Y</td></tr>\n",
              "\t<tr><td>1164927646</td><td>MUNGER </td><td>DANIEL </td><td>Y</td><td>Y</td><td>Y</td><td>Y</td></tr>\n",
              "\t<tr><td>1619900115</td><td>HINKIN </td><td>CHARLES</td><td>Y</td><td>Y</td><td>N</td><td>N</td></tr>\n",
              "</tbody>\n",
              "</table>\n"
            ],
            "text/markdown": "\nA data.frame: 5 × 7\n\n| NPI &lt;int&gt; | LAST_NAME &lt;chr&gt; | FIRST_NAME &lt;chr&gt; | PARTB &lt;chr&gt; | DME &lt;chr&gt; | HHA &lt;chr&gt; | PMD &lt;chr&gt; |\n|---|---|---|---|---|---|---|\n| 1841831351 | BOCTOR  | MELISSA | Y | Y | Y | Y |\n| 1487114781 | STROBEL | RAYMOND | Y | Y | Y | Y |\n| 1578584322 | MADDEN  | MARK    | Y | Y | Y | Y |\n| 1164927646 | MUNGER  | DANIEL  | Y | Y | Y | Y |\n| 1619900115 | HINKIN  | CHARLES | Y | Y | N | N |\n\n",
            "text/latex": "A data.frame: 5 × 7\n\\begin{tabular}{lllllll}\n NPI & LAST\\_NAME & FIRST\\_NAME & PARTB & DME & HHA & PMD\\\\\n <int> & <chr> & <chr> & <chr> & <chr> & <chr> & <chr>\\\\\n\\hline\n\t 1841831351 & BOCTOR  & MELISSA & Y & Y & Y & Y\\\\\n\t 1487114781 & STROBEL & RAYMOND & Y & Y & Y & Y\\\\\n\t 1578584322 & MADDEN  & MARK    & Y & Y & Y & Y\\\\\n\t 1164927646 & MUNGER  & DANIEL  & Y & Y & Y & Y\\\\\n\t 1619900115 & HINKIN  & CHARLES & Y & Y & N & N\\\\\n\\end{tabular}\n",
            "text/plain": [
              "  NPI        LAST_NAME FIRST_NAME PARTB DME HHA PMD\n",
              "1 1841831351 BOCTOR    MELISSA    Y     Y   Y   Y  \n",
              "2 1487114781 STROBEL   RAYMOND    Y     Y   Y   Y  \n",
              "3 1578584322 MADDEN    MARK       Y     Y   Y   Y  \n",
              "4 1164927646 MUNGER    DANIEL     Y     Y   Y   Y  \n",
              "5 1619900115 HINKIN    CHARLES    Y     Y   N   N  "
            ]
          },
          "metadata": {}
        }
      ],
      "source": [
        "## Loading in the data and getting a sample of 5 rows\n",
        "df1 <- read.csv('/content/Order_and_Referring_10_3_2023.csv')\n",
        "df1 %>% sample_n(5, replace = FALSE)"
      ]
    },
    {
      "cell_type": "code",
      "source": [
        "## Putting the columns 'DME' and 'PMD' into a contingency table and performing a chi-square test\n",
        "contingency_table <- table(df1$DME, df1$PMD)\n",
        "chi2_test <- chisq.test(contingency_table)\n",
        "chi2_test"
      ],
      "metadata": {
        "colab": {
          "base_uri": "https://localhost:8080/",
          "height": 136
        },
        "id": "HWzXXDpb2arb",
        "outputId": "1f77066c-9635-4582-a4fa-06f7f4667b1e"
      },
      "execution_count": 35,
      "outputs": [
        {
          "output_type": "stream",
          "name": "stderr",
          "text": [
            "Warning message in chisq.test(contingency_table):\n",
            "“Chi-squared approximation may be incorrect”\n"
          ]
        },
        {
          "output_type": "display_data",
          "data": {
            "text/plain": [
              "\n",
              "\tPearson's Chi-squared test with Yates' continuity correction\n",
              "\n",
              "data:  contingency_table\n",
              "X-squared = 0.74098, df = 1, p-value = 0.3893\n"
            ]
          },
          "metadata": {}
        }
      ]
    },
    {
      "cell_type": "markdown",
      "source": [
        "### **Summary**\n",
        "\n",
        "**Question**: Is there an association between whether a provider can order Durable Medical Equipment (DME) and whether they can order Power Mobility Devices (PMD)?\n",
        "\n",
        "**H0**: There is no relationship between DME and PMD (independent).\n",
        "\n",
        "**H1**: There is a relationship between DME and PMD (dependent).\n",
        "\n",
        "**Interpretation**\n",
        "\n",
        "Since the p-value of 0.3893 is more than the significance level of 0.05, we do not reject the null hypothesis. There is no relationship between a provider's ability to order DME and their ability to order PMD."
      ],
      "metadata": {
        "id": "cYl9yOr4JuM2"
      }
    },
    {
      "cell_type": "markdown",
      "source": [
        "## **2. T-Test**"
      ],
      "metadata": {
        "id": "rdhXRgSu2bE8"
      }
    },
    {
      "cell_type": "code",
      "source": [
        "## Loading in the data and getitng a sample of 5 rows\n",
        "df2 <- read.csv('https://raw.githubusercontent.com/c-susan/datasci_5_statistics/main/datasets/Specific_Chronic_Conditions.csv')\n",
        "df2 %>% sample_n(5, replace = FALSE)"
      ],
      "metadata": {
        "colab": {
          "base_uri": "https://localhost:8080/",
          "height": 357
        },
        "id": "KAsJ6YIS2fnx",
        "outputId": "93cb3636-455f-46a0-c41b-bd6a8f3c38e0"
      },
      "execution_count": 36,
      "outputs": [
        {
          "output_type": "display_data",
          "data": {
            "text/html": [
              "<table class=\"dataframe\">\n",
              "<caption>A data.frame: 5 × 12</caption>\n",
              "<thead>\n",
              "\t<tr><th scope=col>Bene_Geo_Lvl</th><th scope=col>Bene_Geo_Desc</th><th scope=col>Bene_Geo_Cd</th><th scope=col>Bene_Age_Lvl</th><th scope=col>Bene_Demo_Lvl</th><th scope=col>Bene_Demo_Desc</th><th scope=col>Bene_Cond</th><th scope=col>Prvlnc</th><th scope=col>Tot_Mdcr_Stdzd_Pymt_PC</th><th scope=col>Tot_Mdcr_Pymt_PC</th><th scope=col>Hosp_Readmsn_Rate</th><th scope=col>ER_Visits_Per_1000_Benes</th></tr>\n",
              "\t<tr><th scope=col>&lt;chr&gt;</th><th scope=col>&lt;chr&gt;</th><th scope=col>&lt;int&gt;</th><th scope=col>&lt;chr&gt;</th><th scope=col>&lt;chr&gt;</th><th scope=col>&lt;chr&gt;</th><th scope=col>&lt;chr&gt;</th><th scope=col>&lt;dbl&gt;</th><th scope=col>&lt;dbl&gt;</th><th scope=col>&lt;dbl&gt;</th><th scope=col>&lt;dbl&gt;</th><th scope=col>&lt;dbl&gt;</th></tr>\n",
              "</thead>\n",
              "<tbody>\n",
              "\t<tr><td>County</td><td>Texas : Brazoria     </td><td>48039</td><td>65+</td><td>All </td><td>All               </td><td>Atrial Fibrillation   </td><td>0.0928</td><td>33343.60</td><td>36182.46</td><td>NA</td><td>NA</td></tr>\n",
              "\t<tr><td>County</td><td>Missouri : Montgomery</td><td>29139</td><td>65+</td><td>All </td><td>All               </td><td>Asthma                </td><td>0.0357</td><td>18218.17</td><td>17583.46</td><td>NA</td><td>NA</td></tr>\n",
              "\t<tr><td>State </td><td>West Virginia        </td><td>   54</td><td>65+</td><td>Race</td><td>non-Hispanic Black</td><td>Ischemic Heart Disease</td><td>0.3075</td><td>      NA</td><td>      NA</td><td>NA</td><td>NA</td></tr>\n",
              "\t<tr><td>County</td><td>Nebraska : Nance     </td><td>31125</td><td>65+</td><td>All </td><td>All               </td><td>COPD                  </td><td>0.1299</td><td>27419.98</td><td>28974.22</td><td>NA</td><td>NA</td></tr>\n",
              "\t<tr><td>County</td><td><span style=white-space:pre-wrap>Kansas : Harvey      </span></td><td>20079</td><td>&lt;65</td><td>All </td><td><span style=white-space:pre-wrap>All               </span></td><td><span style=white-space:pre-wrap>HIV/AIDS              </span></td><td><span style=white-space:pre-wrap>    NA</span></td><td><span style=white-space:pre-wrap>      NA</span></td><td><span style=white-space:pre-wrap>      NA</span></td><td>NA</td><td>NA</td></tr>\n",
              "</tbody>\n",
              "</table>\n"
            ],
            "text/markdown": "\nA data.frame: 5 × 12\n\n| Bene_Geo_Lvl &lt;chr&gt; | Bene_Geo_Desc &lt;chr&gt; | Bene_Geo_Cd &lt;int&gt; | Bene_Age_Lvl &lt;chr&gt; | Bene_Demo_Lvl &lt;chr&gt; | Bene_Demo_Desc &lt;chr&gt; | Bene_Cond &lt;chr&gt; | Prvlnc &lt;dbl&gt; | Tot_Mdcr_Stdzd_Pymt_PC &lt;dbl&gt; | Tot_Mdcr_Pymt_PC &lt;dbl&gt; | Hosp_Readmsn_Rate &lt;dbl&gt; | ER_Visits_Per_1000_Benes &lt;dbl&gt; |\n|---|---|---|---|---|---|---|---|---|---|---|---|\n| County | Texas : Brazoria      | 48039 | 65+ | All  | All                | Atrial Fibrillation    | 0.0928 | 33343.60 | 36182.46 | NA | NA |\n| County | Missouri : Montgomery | 29139 | 65+ | All  | All                | Asthma                 | 0.0357 | 18218.17 | 17583.46 | NA | NA |\n| State  | West Virginia         |    54 | 65+ | Race | non-Hispanic Black | Ischemic Heart Disease | 0.3075 |       NA |       NA | NA | NA |\n| County | Nebraska : Nance      | 31125 | 65+ | All  | All                | COPD                   | 0.1299 | 27419.98 | 28974.22 | NA | NA |\n| County | Kansas : Harvey       | 20079 | &lt;65 | All  | All                | HIV/AIDS               |     NA |       NA |       NA | NA | NA |\n\n",
            "text/latex": "A data.frame: 5 × 12\n\\begin{tabular}{llllllllllll}\n Bene\\_Geo\\_Lvl & Bene\\_Geo\\_Desc & Bene\\_Geo\\_Cd & Bene\\_Age\\_Lvl & Bene\\_Demo\\_Lvl & Bene\\_Demo\\_Desc & Bene\\_Cond & Prvlnc & Tot\\_Mdcr\\_Stdzd\\_Pymt\\_PC & Tot\\_Mdcr\\_Pymt\\_PC & Hosp\\_Readmsn\\_Rate & ER\\_Visits\\_Per\\_1000\\_Benes\\\\\n <chr> & <chr> & <int> & <chr> & <chr> & <chr> & <chr> & <dbl> & <dbl> & <dbl> & <dbl> & <dbl>\\\\\n\\hline\n\t County & Texas : Brazoria      & 48039 & 65+ & All  & All                & Atrial Fibrillation    & 0.0928 & 33343.60 & 36182.46 & NA & NA\\\\\n\t County & Missouri : Montgomery & 29139 & 65+ & All  & All                & Asthma                 & 0.0357 & 18218.17 & 17583.46 & NA & NA\\\\\n\t State  & West Virginia         &    54 & 65+ & Race & non-Hispanic Black & Ischemic Heart Disease & 0.3075 &       NA &       NA & NA & NA\\\\\n\t County & Nebraska : Nance      & 31125 & 65+ & All  & All                & COPD                   & 0.1299 & 27419.98 & 28974.22 & NA & NA\\\\\n\t County & Kansas : Harvey       & 20079 & <65 & All  & All                & HIV/AIDS               &     NA &       NA &       NA & NA & NA\\\\\n\\end{tabular}\n",
            "text/plain": [
              "  Bene_Geo_Lvl Bene_Geo_Desc         Bene_Geo_Cd Bene_Age_Lvl Bene_Demo_Lvl\n",
              "1 County       Texas : Brazoria      48039       65+          All          \n",
              "2 County       Missouri : Montgomery 29139       65+          All          \n",
              "3 State        West Virginia            54       65+          Race         \n",
              "4 County       Nebraska : Nance      31125       65+          All          \n",
              "5 County       Kansas : Harvey       20079       <65          All          \n",
              "  Bene_Demo_Desc     Bene_Cond              Prvlnc Tot_Mdcr_Stdzd_Pymt_PC\n",
              "1 All                Atrial Fibrillation    0.0928 33343.60              \n",
              "2 All                Asthma                 0.0357 18218.17              \n",
              "3 non-Hispanic Black Ischemic Heart Disease 0.3075       NA              \n",
              "4 All                COPD                   0.1299 27419.98              \n",
              "5 All                HIV/AIDS                   NA       NA              \n",
              "  Tot_Mdcr_Pymt_PC Hosp_Readmsn_Rate ER_Visits_Per_1000_Benes\n",
              "1 36182.46         NA                NA                      \n",
              "2 17583.46         NA                NA                      \n",
              "3       NA         NA                NA                      \n",
              "4 28974.22         NA                NA                      \n",
              "5       NA         NA                NA                      "
            ]
          },
          "metadata": {}
        }
      ]
    },
    {
      "cell_type": "code",
      "source": [
        "## Assigning variable df2 with a subset of the dataset where 'Bene_Demo_Desc' is either Female or Male, 'Bene_Age_Lvl' is All, and 'Prvlnc' is not null.\n",
        "alcohol <- df2 %>% filter(Bene_Demo_Desc %in% c('Female', 'Male'),\n",
        "                      Bene_Age_Lvl == 'All',\n",
        "                      Bene_Cond == 'Alcohol Abuse',\n",
        "                      !is.na(Prvlnc))\n",
        "\n",
        "## Splitting the data into 2 groups: Female and Male\n",
        "female <- subset(alcohol, Bene_Demo_Desc == 'Female')$Prvlnc\n",
        "male <- subset(alcohol, Bene_Demo_Desc == 'Male')$Prvlnc"
      ],
      "metadata": {
        "id": "w_Jr3_sT2f3N"
      },
      "execution_count": 37,
      "outputs": []
    },
    {
      "cell_type": "code",
      "source": [
        "## Performing the t-test\n",
        "ttest<- t.test(female, male, var.equal = FALSE)\n",
        "ttest"
      ],
      "metadata": {
        "colab": {
          "base_uri": "https://localhost:8080/",
          "height": 204
        },
        "id": "-63EZNUwEmMe",
        "outputId": "ec2be362-55d0-41af-f7e5-a1ddc707641b"
      },
      "execution_count": 38,
      "outputs": [
        {
          "output_type": "display_data",
          "data": {
            "text/plain": [
              "\n",
              "\tWelch Two Sample t-test\n",
              "\n",
              "data:  female and male\n",
              "t = -15.757, df = 81.377, p-value < 2.2e-16\n",
              "alternative hypothesis: true difference in means is not equal to 0\n",
              "95 percent confidence interval:\n",
              " -0.02182663 -0.01693263\n",
              "sample estimates:\n",
              " mean of x  mean of y \n",
              "0.01215000 0.03152963 \n"
            ]
          },
          "metadata": {}
        }
      ]
    },
    {
      "cell_type": "code",
      "source": [
        "# Computing means for Female and Male data with 'Alcohol Abuse'\n",
        "female_mean <- mean(female)\n",
        "male_mean <- mean(male)\n",
        "print(paste('Female Mean: ', female_mean))\n",
        "print(paste('Male Mean: ', male_mean))"
      ],
      "metadata": {
        "colab": {
          "base_uri": "https://localhost:8080/"
        },
        "id": "n5OYF1i_L-JL",
        "outputId": "28041b27-3f70-4538-c26a-6a73b1f185b5"
      },
      "execution_count": 50,
      "outputs": [
        {
          "output_type": "stream",
          "name": "stdout",
          "text": [
            "[1] \"Female Mean:  0.01215\"\n",
            "[1] \"Male Mean:  0.0315296296296296\"\n"
          ]
        }
      ]
    },
    {
      "cell_type": "markdown",
      "source": [
        "### **Summary**\n",
        "\n",
        "**Question:** Is there a difference in means of alcohol abuse between males and females?\n",
        "\n",
        "**H0:** There is no difference in means of alcohol abuse between males and females.\n",
        "\n",
        "**H1:** There is a difference in means of alcohol abuse between males and females.\n",
        "\n",
        "**Interpretation**\n",
        "\n",
        "The p-value of p-value is less than 2.2e-16, which is less than the significance level of 0.05. This means that there is a significant difference in means of alcohol abuse between males and females. The t-statisitic is -15.757, which measures the difference between the means of the two groups, indicates that the mean in alcohol abuse for females is lower than compared with males."
      ],
      "metadata": {
        "id": "XCv6RgzxLiwg"
      }
    },
    {
      "cell_type": "markdown",
      "source": [
        "## **3. ANOVA**"
      ],
      "metadata": {
        "id": "Ore-oEI52gND"
      }
    },
    {
      "cell_type": "code",
      "source": [
        "## Loading in the data and getitng a sample of 3 rows\n",
        "df3 <- read.csv('https://raw.githubusercontent.com/c-susan/datasci_5_statistics/main/datasets/Provisional_COVID-19_Deaths_by_Sex_and_Age.csv')\n",
        "df3 %>% sample_n(3, replace = FALSE)"
      ],
      "metadata": {
        "colab": {
          "base_uri": "https://localhost:8080/",
          "height": 601
        },
        "id": "r8YP1Mzw2leA",
        "outputId": "4ec10dcb-e4af-4438-d283-a7bc21de7afa"
      },
      "execution_count": 44,
      "outputs": [
        {
          "output_type": "display_data",
          "data": {
            "text/html": [
              "<table class=\"dataframe\">\n",
              "<caption>A data.frame: 3 × 16</caption>\n",
              "<thead>\n",
              "\t<tr><th scope=col>Data.As.Of</th><th scope=col>Start.Date</th><th scope=col>End.Date</th><th scope=col>Group</th><th scope=col>Year</th><th scope=col>Month</th><th scope=col>State</th><th scope=col>Sex</th><th scope=col>Age.Group</th><th scope=col>COVID.19.Deaths</th><th scope=col>Total.Deaths</th><th scope=col>Pneumonia.Deaths</th><th scope=col>Pneumonia.and.COVID.19.Deaths</th><th scope=col>Influenza.Deaths</th><th scope=col>Pneumonia..Influenza..or.COVID.19.Deaths</th><th scope=col>Footnote</th></tr>\n",
              "\t<tr><th scope=col>&lt;chr&gt;</th><th scope=col>&lt;chr&gt;</th><th scope=col>&lt;chr&gt;</th><th scope=col>&lt;chr&gt;</th><th scope=col>&lt;int&gt;</th><th scope=col>&lt;int&gt;</th><th scope=col>&lt;chr&gt;</th><th scope=col>&lt;chr&gt;</th><th scope=col>&lt;chr&gt;</th><th scope=col>&lt;int&gt;</th><th scope=col>&lt;int&gt;</th><th scope=col>&lt;int&gt;</th><th scope=col>&lt;int&gt;</th><th scope=col>&lt;int&gt;</th><th scope=col>&lt;int&gt;</th><th scope=col>&lt;chr&gt;</th></tr>\n",
              "</thead>\n",
              "<tbody>\n",
              "\t<tr><td>09/27/2023</td><td>06/01/2021</td><td>06/30/2021</td><td>By Month</td><td>2021</td><td>6</td><td>Mississippi</td><td>Male     </td><td>Under 1 year     </td><td> 0</td><td>19</td><td> 0</td><td> 0</td><td>0</td><td> 0</td><td>                                                                                                                          </td></tr>\n",
              "\t<tr><td>09/27/2023</td><td>07/01/2021</td><td>07/31/2021</td><td>By Month</td><td>2021</td><td>7</td><td>Alabama    </td><td>All Sexes</td><td>0-17 years       </td><td> 0</td><td>78</td><td>NA</td><td> 0</td><td>0</td><td>NA</td><td>One or more data cells have counts between 1-9 and have been suppressed in accordance with NCHS confidentiality standards.</td></tr>\n",
              "\t<tr><td>09/27/2023</td><td>06/01/2021</td><td>06/30/2021</td><td>By Month</td><td>2021</td><td>6</td><td>Alaska     </td><td>Male     </td><td>85 years and over</td><td>NA</td><td>38</td><td>NA</td><td>NA</td><td>0</td><td>NA</td><td>One or more data cells have counts between 1-9 and have been suppressed in accordance with NCHS confidentiality standards.</td></tr>\n",
              "</tbody>\n",
              "</table>\n"
            ],
            "text/markdown": "\nA data.frame: 3 × 16\n\n| Data.As.Of &lt;chr&gt; | Start.Date &lt;chr&gt; | End.Date &lt;chr&gt; | Group &lt;chr&gt; | Year &lt;int&gt; | Month &lt;int&gt; | State &lt;chr&gt; | Sex &lt;chr&gt; | Age.Group &lt;chr&gt; | COVID.19.Deaths &lt;int&gt; | Total.Deaths &lt;int&gt; | Pneumonia.Deaths &lt;int&gt; | Pneumonia.and.COVID.19.Deaths &lt;int&gt; | Influenza.Deaths &lt;int&gt; | Pneumonia..Influenza..or.COVID.19.Deaths &lt;int&gt; | Footnote &lt;chr&gt; |\n|---|---|---|---|---|---|---|---|---|---|---|---|---|---|---|---|\n| 09/27/2023 | 06/01/2021 | 06/30/2021 | By Month | 2021 | 6 | Mississippi | Male      | Under 1 year      |  0 | 19 |  0 |  0 | 0 |  0 | <!----> |\n| 09/27/2023 | 07/01/2021 | 07/31/2021 | By Month | 2021 | 7 | Alabama     | All Sexes | 0-17 years        |  0 | 78 | NA |  0 | 0 | NA | One or more data cells have counts between 1-9 and have been suppressed in accordance with NCHS confidentiality standards. |\n| 09/27/2023 | 06/01/2021 | 06/30/2021 | By Month | 2021 | 6 | Alaska      | Male      | 85 years and over | NA | 38 | NA | NA | 0 | NA | One or more data cells have counts between 1-9 and have been suppressed in accordance with NCHS confidentiality standards. |\n\n",
            "text/latex": "A data.frame: 3 × 16\n\\begin{tabular}{llllllllllllllll}\n Data.As.Of & Start.Date & End.Date & Group & Year & Month & State & Sex & Age.Group & COVID.19.Deaths & Total.Deaths & Pneumonia.Deaths & Pneumonia.and.COVID.19.Deaths & Influenza.Deaths & Pneumonia..Influenza..or.COVID.19.Deaths & Footnote\\\\\n <chr> & <chr> & <chr> & <chr> & <int> & <int> & <chr> & <chr> & <chr> & <int> & <int> & <int> & <int> & <int> & <int> & <chr>\\\\\n\\hline\n\t 09/27/2023 & 06/01/2021 & 06/30/2021 & By Month & 2021 & 6 & Mississippi & Male      & Under 1 year      &  0 & 19 &  0 &  0 & 0 &  0 &                                                                                                                           \\\\\n\t 09/27/2023 & 07/01/2021 & 07/31/2021 & By Month & 2021 & 7 & Alabama     & All Sexes & 0-17 years        &  0 & 78 & NA &  0 & 0 & NA & One or more data cells have counts between 1-9 and have been suppressed in accordance with NCHS confidentiality standards.\\\\\n\t 09/27/2023 & 06/01/2021 & 06/30/2021 & By Month & 2021 & 6 & Alaska      & Male      & 85 years and over & NA & 38 & NA & NA & 0 & NA & One or more data cells have counts between 1-9 and have been suppressed in accordance with NCHS confidentiality standards.\\\\\n\\end{tabular}\n",
            "text/plain": [
              "  Data.As.Of Start.Date End.Date   Group    Year Month State       Sex      \n",
              "1 09/27/2023 06/01/2021 06/30/2021 By Month 2021 6     Mississippi Male     \n",
              "2 09/27/2023 07/01/2021 07/31/2021 By Month 2021 7     Alabama     All Sexes\n",
              "3 09/27/2023 06/01/2021 06/30/2021 By Month 2021 6     Alaska      Male     \n",
              "  Age.Group         COVID.19.Deaths Total.Deaths Pneumonia.Deaths\n",
              "1 Under 1 year       0              19            0              \n",
              "2 0-17 years         0              78           NA              \n",
              "3 85 years and over NA              38           NA              \n",
              "  Pneumonia.and.COVID.19.Deaths Influenza.Deaths\n",
              "1  0                            0               \n",
              "2  0                            0               \n",
              "3 NA                            0               \n",
              "  Pneumonia..Influenza..or.COVID.19.Deaths\n",
              "1  0                                      \n",
              "2 NA                                      \n",
              "3 NA                                      \n",
              "  Footnote                                                                                                                  \n",
              "1                                                                                                                           \n",
              "2 One or more data cells have counts between 1-9 and have been suppressed in accordance with NCHS confidentiality standards.\n",
              "3 One or more data cells have counts between 1-9 and have been suppressed in accordance with NCHS confidentiality standards."
            ]
          },
          "metadata": {}
        }
      ]
    },
    {
      "cell_type": "code",
      "source": [
        "## Selecting for rows where the column 'sex' equals 'All Sexes', column 'age_group' is not equal 'All Ages',\n",
        "## and column 'covid-19_deaths' does not have any null values.\n",
        "df3 <- df3 %>% filter(Sex != 'All Sexes',\n",
        "                      Age.Group != 'All Ages',\n",
        "                      !is.na(COVID.19.Deaths))\n",
        "df3 %>% sample_n(3, replace = FALSE)"
      ],
      "metadata": {
        "colab": {
          "base_uri": "https://localhost:8080/",
          "height": 601
        },
        "id": "GvKCOdLxHOJ-",
        "outputId": "92ec2cf0-e5ba-4205-9b65-dbf12fb0e261"
      },
      "execution_count": 46,
      "outputs": [
        {
          "output_type": "display_data",
          "data": {
            "text/html": [
              "<table class=\"dataframe\">\n",
              "<caption>A data.frame: 3 × 16</caption>\n",
              "<thead>\n",
              "\t<tr><th scope=col>Data.As.Of</th><th scope=col>Start.Date</th><th scope=col>End.Date</th><th scope=col>Group</th><th scope=col>Year</th><th scope=col>Month</th><th scope=col>State</th><th scope=col>Sex</th><th scope=col>Age.Group</th><th scope=col>COVID.19.Deaths</th><th scope=col>Total.Deaths</th><th scope=col>Pneumonia.Deaths</th><th scope=col>Pneumonia.and.COVID.19.Deaths</th><th scope=col>Influenza.Deaths</th><th scope=col>Pneumonia..Influenza..or.COVID.19.Deaths</th><th scope=col>Footnote</th></tr>\n",
              "\t<tr><th scope=col>&lt;chr&gt;</th><th scope=col>&lt;chr&gt;</th><th scope=col>&lt;chr&gt;</th><th scope=col>&lt;chr&gt;</th><th scope=col>&lt;int&gt;</th><th scope=col>&lt;int&gt;</th><th scope=col>&lt;chr&gt;</th><th scope=col>&lt;chr&gt;</th><th scope=col>&lt;chr&gt;</th><th scope=col>&lt;int&gt;</th><th scope=col>&lt;int&gt;</th><th scope=col>&lt;int&gt;</th><th scope=col>&lt;int&gt;</th><th scope=col>&lt;int&gt;</th><th scope=col>&lt;int&gt;</th><th scope=col>&lt;chr&gt;</th></tr>\n",
              "</thead>\n",
              "<tbody>\n",
              "\t<tr><td>09/27/2023</td><td>04/01/2023</td><td>04/30/2023</td><td>By Month</td><td>2023</td><td> 4</td><td>Delaware</td><td>Female</td><td>0-17 years       </td><td>  0</td><td> NA</td><td>  0</td><td> 0</td><td>0</td><td>  0</td><td>One or more data cells have counts between 1-9 and have been suppressed in accordance with NCHS confidentiality standards.</td></tr>\n",
              "\t<tr><td>09/27/2023</td><td>08/01/2020</td><td>08/31/2020</td><td>By Month</td><td>2020</td><td> 8</td><td>Delaware</td><td>Male  </td><td>15-24 years      </td><td>  0</td><td> NA</td><td>  0</td><td> 0</td><td>0</td><td>  0</td><td>One or more data cells have counts between 1-9 and have been suppressed in accordance with NCHS confidentiality standards.</td></tr>\n",
              "\t<tr><td>09/27/2023</td><td>11/01/2020</td><td>11/30/2020</td><td>By Month</td><td>2020</td><td>11</td><td>Kentucky</td><td>Female</td><td>85 years and over</td><td>219</td><td>855</td><td>107</td><td>79</td><td>0</td><td>247</td><td>                                                                                                                          </td></tr>\n",
              "</tbody>\n",
              "</table>\n"
            ],
            "text/markdown": "\nA data.frame: 3 × 16\n\n| Data.As.Of &lt;chr&gt; | Start.Date &lt;chr&gt; | End.Date &lt;chr&gt; | Group &lt;chr&gt; | Year &lt;int&gt; | Month &lt;int&gt; | State &lt;chr&gt; | Sex &lt;chr&gt; | Age.Group &lt;chr&gt; | COVID.19.Deaths &lt;int&gt; | Total.Deaths &lt;int&gt; | Pneumonia.Deaths &lt;int&gt; | Pneumonia.and.COVID.19.Deaths &lt;int&gt; | Influenza.Deaths &lt;int&gt; | Pneumonia..Influenza..or.COVID.19.Deaths &lt;int&gt; | Footnote &lt;chr&gt; |\n|---|---|---|---|---|---|---|---|---|---|---|---|---|---|---|---|\n| 09/27/2023 | 04/01/2023 | 04/30/2023 | By Month | 2023 |  4 | Delaware | Female | 0-17 years        |   0 |  NA |   0 |  0 | 0 |   0 | One or more data cells have counts between 1-9 and have been suppressed in accordance with NCHS confidentiality standards. |\n| 09/27/2023 | 08/01/2020 | 08/31/2020 | By Month | 2020 |  8 | Delaware | Male   | 15-24 years       |   0 |  NA |   0 |  0 | 0 |   0 | One or more data cells have counts between 1-9 and have been suppressed in accordance with NCHS confidentiality standards. |\n| 09/27/2023 | 11/01/2020 | 11/30/2020 | By Month | 2020 | 11 | Kentucky | Female | 85 years and over | 219 | 855 | 107 | 79 | 0 | 247 | <!----> |\n\n",
            "text/latex": "A data.frame: 3 × 16\n\\begin{tabular}{llllllllllllllll}\n Data.As.Of & Start.Date & End.Date & Group & Year & Month & State & Sex & Age.Group & COVID.19.Deaths & Total.Deaths & Pneumonia.Deaths & Pneumonia.and.COVID.19.Deaths & Influenza.Deaths & Pneumonia..Influenza..or.COVID.19.Deaths & Footnote\\\\\n <chr> & <chr> & <chr> & <chr> & <int> & <int> & <chr> & <chr> & <chr> & <int> & <int> & <int> & <int> & <int> & <int> & <chr>\\\\\n\\hline\n\t 09/27/2023 & 04/01/2023 & 04/30/2023 & By Month & 2023 &  4 & Delaware & Female & 0-17 years        &   0 &  NA &   0 &  0 & 0 &   0 & One or more data cells have counts between 1-9 and have been suppressed in accordance with NCHS confidentiality standards.\\\\\n\t 09/27/2023 & 08/01/2020 & 08/31/2020 & By Month & 2020 &  8 & Delaware & Male   & 15-24 years       &   0 &  NA &   0 &  0 & 0 &   0 & One or more data cells have counts between 1-9 and have been suppressed in accordance with NCHS confidentiality standards.\\\\\n\t 09/27/2023 & 11/01/2020 & 11/30/2020 & By Month & 2020 & 11 & Kentucky & Female & 85 years and over & 219 & 855 & 107 & 79 & 0 & 247 &                                                                                                                           \\\\\n\\end{tabular}\n",
            "text/plain": [
              "  Data.As.Of Start.Date End.Date   Group    Year Month State    Sex   \n",
              "1 09/27/2023 04/01/2023 04/30/2023 By Month 2023  4    Delaware Female\n",
              "2 09/27/2023 08/01/2020 08/31/2020 By Month 2020  8    Delaware Male  \n",
              "3 09/27/2023 11/01/2020 11/30/2020 By Month 2020 11    Kentucky Female\n",
              "  Age.Group         COVID.19.Deaths Total.Deaths Pneumonia.Deaths\n",
              "1 0-17 years          0              NA            0             \n",
              "2 15-24 years         0              NA            0             \n",
              "3 85 years and over 219             855          107             \n",
              "  Pneumonia.and.COVID.19.Deaths Influenza.Deaths\n",
              "1  0                            0               \n",
              "2  0                            0               \n",
              "3 79                            0               \n",
              "  Pneumonia..Influenza..or.COVID.19.Deaths\n",
              "1   0                                     \n",
              "2   0                                     \n",
              "3 247                                     \n",
              "  Footnote                                                                                                                  \n",
              "1 One or more data cells have counts between 1-9 and have been suppressed in accordance with NCHS confidentiality standards.\n",
              "2 One or more data cells have counts between 1-9 and have been suppressed in accordance with NCHS confidentiality standards.\n",
              "3                                                                                                                           "
            ]
          },
          "metadata": {}
        }
      ]
    },
    {
      "cell_type": "code",
      "source": [
        "## Performing anova\n",
        "model <- aov(COVID.19.Deaths ~ Age.Group + Sex, data=df3)\n",
        "summary(model)"
      ],
      "metadata": {
        "colab": {
          "base_uri": "https://localhost:8080/",
          "height": 119
        },
        "id": "FvNwipyJ2lwy",
        "outputId": "f34bc10d-0ed5-40f8-e478-1363d0458e98"
      },
      "execution_count": 48,
      "outputs": [
        {
          "output_type": "display_data",
          "data": {
            "text/plain": [
              "               Df    Sum Sq   Mean Sq F value Pr(>F)    \n",
              "Age.Group      15 1.753e+09 116850254  29.372 <2e-16 ***\n",
              "Sex             1 1.414e+07  14138608   3.554 0.0594 .  \n",
              "Residuals   60310 2.399e+11   3978330                   \n",
              "---\n",
              "Signif. codes:  0 ‘***’ 0.001 ‘**’ 0.01 ‘*’ 0.05 ‘.’ 0.1 ‘ ’ 1"
            ]
          },
          "metadata": {}
        }
      ]
    },
    {
      "cell_type": "markdown",
      "source": [
        "### **Summary**\n",
        "**Question:** Does age group and sex have a significant different on the number of Covid-19 deaths?\n",
        "\n",
        "**H0:** There is no significant effect of age group and sex on the number of COVID-19 deaths.\n",
        "\n",
        "**H1:** There is a significant effect of age group and sex on the number of COVID-19 deaths.\n",
        "\n",
        "**Interpretation**\n",
        "1. There is a significant effect of age group on the number of COVID-19 deaths, since p-value is less than <2e-16, which is less than 0.05.\n",
        "2. There is no effect of sex on the number of COVID-19 deaths, since the p-value of 0.0594 is greater than 0.05."
      ],
      "metadata": {
        "id": "bExPObMJM_xu"
      }
    },
    {
      "cell_type": "markdown",
      "source": [
        "## **4. Regression Analysis**"
      ],
      "metadata": {
        "id": "OaEF68FT2mES"
      }
    },
    {
      "cell_type": "code",
      "source": [
        "## Loading in the data and getitng a sample of 5 rows\n",
        "df4 <- read.csv('https://raw.githubusercontent.com/c-susan/datasci_5_statistics/main/datasets/CostReport_2019_Final.csv')\n",
        "df4 %>% sample_n(5, replace = FALSE)"
      ],
      "metadata": {
        "colab": {
          "base_uri": "https://localhost:8080/",
          "height": 476
        },
        "id": "fWyf_i8y2qZY",
        "outputId": "25b7cba9-21ce-4556-9f0f-9624ce207e84"
      },
      "execution_count": 51,
      "outputs": [
        {
          "output_type": "display_data",
          "data": {
            "text/html": [
              "<table class=\"dataframe\">\n",
              "<caption>A data.frame: 5 × 126</caption>\n",
              "<thead>\n",
              "\t<tr><th scope=col>rpt_rec_num</th><th scope=col>Provider.CCN</th><th scope=col>Hospital.Name</th><th scope=col>Street.Address</th><th scope=col>City</th><th scope=col>State.Code</th><th scope=col>Zip.Code</th><th scope=col>County</th><th scope=col>Medicare.CBSA.Number</th><th scope=col>Rural.Versus.Urban</th><th scope=col>⋯</th><th scope=col>Net.Income.from.Service.to.Patients</th><th scope=col>Total.Other.Income</th><th scope=col>Total.Income</th><th scope=col>Total.Other.Expenses</th><th scope=col>Net.Income</th><th scope=col>Cost.To.Charge.Ratio</th><th scope=col>Net.Revenue.from.Medicaid</th><th scope=col>Medicaid.Charges</th><th scope=col>Net.Revenue.from.Stand.Alone.SCHIP</th><th scope=col>Stand.Alone.SCHIP.Charges</th></tr>\n",
              "\t<tr><th scope=col>&lt;int&gt;</th><th scope=col>&lt;int&gt;</th><th scope=col>&lt;chr&gt;</th><th scope=col>&lt;chr&gt;</th><th scope=col>&lt;chr&gt;</th><th scope=col>&lt;chr&gt;</th><th scope=col>&lt;chr&gt;</th><th scope=col>&lt;chr&gt;</th><th scope=col>&lt;int&gt;</th><th scope=col>&lt;chr&gt;</th><th scope=col>⋯</th><th scope=col>&lt;dbl&gt;</th><th scope=col>&lt;int&gt;</th><th scope=col>&lt;dbl&gt;</th><th scope=col>&lt;int&gt;</th><th scope=col>&lt;dbl&gt;</th><th scope=col>&lt;dbl&gt;</th><th scope=col>&lt;int&gt;</th><th scope=col>&lt;dbl&gt;</th><th scope=col>&lt;int&gt;</th><th scope=col>&lt;int&gt;</th></tr>\n",
              "</thead>\n",
              "<tbody>\n",
              "\t<tr><td>710881</td><td>100265</td><td>MEASE HOSPITAL COUNTRYSIDE          </td><td>3231 NORTH MCMULLEN BOOTH RD</td><td>SAFETY HARBOR</td><td>FL</td><td>33761-2045</td><td>PINELLAS        </td><td>45300</td><td>U</td><td>⋯</td><td>66190134</td><td> 2653654</td><td>68843788</td><td>     NA</td><td>68843788</td><td>0.176926</td><td>11754183</td><td>123869527</td><td>  52223</td><td> 725804</td></tr>\n",
              "\t<tr><td>718871</td><td>190274</td><td>OCHSNER MEDICAL CENTER - KENNER  LLC</td><td>180 WEST ESPLANADE AVE.     </td><td>KENNER       </td><td>LA</td><td>70065     </td><td>JEFFERSON PARISH</td><td>35380</td><td>U</td><td>⋯</td><td>-4609900</td><td> 9669989</td><td> 5060089</td><td>     NA</td><td> 5060089</td><td>0.209409</td><td>23413366</td><td>122699047</td><td>1369527</td><td>5746747</td></tr>\n",
              "\t<tr><td>708578</td><td>490084</td><td>RIVERSIDE TAPPAHANNOCK HOSPITAL     </td><td>ROUTE 2                     </td><td>TAPPAHANNOCK </td><td>VA</td><td>22560     </td><td>ESSEX           </td><td>99949</td><td>R</td><td>⋯</td><td> 6015304</td><td>  799873</td><td> 6815177</td><td>6398177</td><td>  417000</td><td>0.273345</td><td> 8114668</td><td> 27432869</td><td>     NA</td><td>     NA</td></tr>\n",
              "\t<tr><td>707304</td><td>310061</td><td>LOURDES MEDICAL CENTER-BURLINGTON   </td><td>218A SUNSET RD              </td><td>WILLINGBORO  </td><td>NJ</td><td>08046     </td><td>BURLINGTON      </td><td>15804</td><td>U</td><td>⋯</td><td>-2217936</td><td>-1058304</td><td>-3276240</td><td>     NA</td><td>-3276240</td><td>0.140901</td><td>12393657</td><td> 73363982</td><td>     NA</td><td>     NA</td></tr>\n",
              "\t<tr><td>709428</td><td>340027</td><td>LENOIR MEMORIAL HOSPITAL            </td><td>100 AIRPORT ROAD            </td><td>KINSTON      </td><td>NC</td><td>28501     </td><td>LENOIR          </td><td>99934</td><td>R</td><td>⋯</td><td>-6353163</td><td>14710108</td><td> 8356945</td><td>7187619</td><td> 1169326</td><td>0.355059</td><td> 9689767</td><td> 48255806</td><td> 125534</td><td> 634993</td></tr>\n",
              "</tbody>\n",
              "</table>\n"
            ],
            "text/markdown": "\nA data.frame: 5 × 126\n\n| rpt_rec_num &lt;int&gt; | Provider.CCN &lt;int&gt; | Hospital.Name &lt;chr&gt; | Street.Address &lt;chr&gt; | City &lt;chr&gt; | State.Code &lt;chr&gt; | Zip.Code &lt;chr&gt; | County &lt;chr&gt; | Medicare.CBSA.Number &lt;int&gt; | Rural.Versus.Urban &lt;chr&gt; | ⋯ ⋯ | Net.Income.from.Service.to.Patients &lt;dbl&gt; | Total.Other.Income &lt;int&gt; | Total.Income &lt;dbl&gt; | Total.Other.Expenses &lt;int&gt; | Net.Income &lt;dbl&gt; | Cost.To.Charge.Ratio &lt;dbl&gt; | Net.Revenue.from.Medicaid &lt;int&gt; | Medicaid.Charges &lt;dbl&gt; | Net.Revenue.from.Stand.Alone.SCHIP &lt;int&gt; | Stand.Alone.SCHIP.Charges &lt;int&gt; |\n|---|---|---|---|---|---|---|---|---|---|---|---|---|---|---|---|---|---|---|---|---|\n| 710881 | 100265 | MEASE HOSPITAL COUNTRYSIDE           | 3231 NORTH MCMULLEN BOOTH RD | SAFETY HARBOR | FL | 33761-2045 | PINELLAS         | 45300 | U | ⋯ | 66190134 |  2653654 | 68843788 |      NA | 68843788 | 0.176926 | 11754183 | 123869527 |   52223 |  725804 |\n| 718871 | 190274 | OCHSNER MEDICAL CENTER - KENNER  LLC | 180 WEST ESPLANADE AVE.      | KENNER        | LA | 70065      | JEFFERSON PARISH | 35380 | U | ⋯ | -4609900 |  9669989 |  5060089 |      NA |  5060089 | 0.209409 | 23413366 | 122699047 | 1369527 | 5746747 |\n| 708578 | 490084 | RIVERSIDE TAPPAHANNOCK HOSPITAL      | ROUTE 2                      | TAPPAHANNOCK  | VA | 22560      | ESSEX            | 99949 | R | ⋯ |  6015304 |   799873 |  6815177 | 6398177 |   417000 | 0.273345 |  8114668 |  27432869 |      NA |      NA |\n| 707304 | 310061 | LOURDES MEDICAL CENTER-BURLINGTON    | 218A SUNSET RD               | WILLINGBORO   | NJ | 08046      | BURLINGTON       | 15804 | U | ⋯ | -2217936 | -1058304 | -3276240 |      NA | -3276240 | 0.140901 | 12393657 |  73363982 |      NA |      NA |\n| 709428 | 340027 | LENOIR MEMORIAL HOSPITAL             | 100 AIRPORT ROAD             | KINSTON       | NC | 28501      | LENOIR           | 99934 | R | ⋯ | -6353163 | 14710108 |  8356945 | 7187619 |  1169326 | 0.355059 |  9689767 |  48255806 |  125534 |  634993 |\n\n",
            "text/latex": "A data.frame: 5 × 126\n\\begin{tabular}{lllllllllllllllllllll}\n rpt\\_rec\\_num & Provider.CCN & Hospital.Name & Street.Address & City & State.Code & Zip.Code & County & Medicare.CBSA.Number & Rural.Versus.Urban & ⋯ & Net.Income.from.Service.to.Patients & Total.Other.Income & Total.Income & Total.Other.Expenses & Net.Income & Cost.To.Charge.Ratio & Net.Revenue.from.Medicaid & Medicaid.Charges & Net.Revenue.from.Stand.Alone.SCHIP & Stand.Alone.SCHIP.Charges\\\\\n <int> & <int> & <chr> & <chr> & <chr> & <chr> & <chr> & <chr> & <int> & <chr> & ⋯ & <dbl> & <int> & <dbl> & <int> & <dbl> & <dbl> & <int> & <dbl> & <int> & <int>\\\\\n\\hline\n\t 710881 & 100265 & MEASE HOSPITAL COUNTRYSIDE           & 3231 NORTH MCMULLEN BOOTH RD & SAFETY HARBOR & FL & 33761-2045 & PINELLAS         & 45300 & U & ⋯ & 66190134 &  2653654 & 68843788 &      NA & 68843788 & 0.176926 & 11754183 & 123869527 &   52223 &  725804\\\\\n\t 718871 & 190274 & OCHSNER MEDICAL CENTER - KENNER  LLC & 180 WEST ESPLANADE AVE.      & KENNER        & LA & 70065      & JEFFERSON PARISH & 35380 & U & ⋯ & -4609900 &  9669989 &  5060089 &      NA &  5060089 & 0.209409 & 23413366 & 122699047 & 1369527 & 5746747\\\\\n\t 708578 & 490084 & RIVERSIDE TAPPAHANNOCK HOSPITAL      & ROUTE 2                      & TAPPAHANNOCK  & VA & 22560      & ESSEX            & 99949 & R & ⋯ &  6015304 &   799873 &  6815177 & 6398177 &   417000 & 0.273345 &  8114668 &  27432869 &      NA &      NA\\\\\n\t 707304 & 310061 & LOURDES MEDICAL CENTER-BURLINGTON    & 218A SUNSET RD               & WILLINGBORO   & NJ & 08046      & BURLINGTON       & 15804 & U & ⋯ & -2217936 & -1058304 & -3276240 &      NA & -3276240 & 0.140901 & 12393657 &  73363982 &      NA &      NA\\\\\n\t 709428 & 340027 & LENOIR MEMORIAL HOSPITAL             & 100 AIRPORT ROAD             & KINSTON       & NC & 28501      & LENOIR           & 99934 & R & ⋯ & -6353163 & 14710108 &  8356945 & 7187619 &  1169326 & 0.355059 &  9689767 &  48255806 &  125534 &  634993\\\\\n\\end{tabular}\n",
            "text/plain": [
              "  rpt_rec_num Provider.CCN Hospital.Name                       \n",
              "1 710881      100265       MEASE HOSPITAL COUNTRYSIDE          \n",
              "2 718871      190274       OCHSNER MEDICAL CENTER - KENNER  LLC\n",
              "3 708578      490084       RIVERSIDE TAPPAHANNOCK HOSPITAL     \n",
              "4 707304      310061       LOURDES MEDICAL CENTER-BURLINGTON   \n",
              "5 709428      340027       LENOIR MEMORIAL HOSPITAL            \n",
              "  Street.Address               City          State.Code Zip.Code  \n",
              "1 3231 NORTH MCMULLEN BOOTH RD SAFETY HARBOR FL         33761-2045\n",
              "2 180 WEST ESPLANADE AVE.      KENNER        LA         70065     \n",
              "3 ROUTE 2                      TAPPAHANNOCK  VA         22560     \n",
              "4 218A SUNSET RD               WILLINGBORO   NJ         08046     \n",
              "5 100 AIRPORT ROAD             KINSTON       NC         28501     \n",
              "  County           Medicare.CBSA.Number Rural.Versus.Urban ⋯\n",
              "1 PINELLAS         45300                U                  ⋯\n",
              "2 JEFFERSON PARISH 35380                U                  ⋯\n",
              "3 ESSEX            99949                R                  ⋯\n",
              "4 BURLINGTON       15804                U                  ⋯\n",
              "5 LENOIR           99934                R                  ⋯\n",
              "  Net.Income.from.Service.to.Patients Total.Other.Income Total.Income\n",
              "1 66190134                             2653654           68843788    \n",
              "2 -4609900                             9669989            5060089    \n",
              "3  6015304                              799873            6815177    \n",
              "4 -2217936                            -1058304           -3276240    \n",
              "5 -6353163                            14710108            8356945    \n",
              "  Total.Other.Expenses Net.Income Cost.To.Charge.Ratio\n",
              "1      NA              68843788   0.176926            \n",
              "2      NA               5060089   0.209409            \n",
              "3 6398177                417000   0.273345            \n",
              "4      NA              -3276240   0.140901            \n",
              "5 7187619               1169326   0.355059            \n",
              "  Net.Revenue.from.Medicaid Medicaid.Charges Net.Revenue.from.Stand.Alone.SCHIP\n",
              "1 11754183                  123869527          52223                           \n",
              "2 23413366                  122699047        1369527                           \n",
              "3  8114668                   27432869             NA                           \n",
              "4 12393657                   73363982             NA                           \n",
              "5  9689767                   48255806         125534                           \n",
              "  Stand.Alone.SCHIP.Charges\n",
              "1  725804                  \n",
              "2 5746747                  \n",
              "3      NA                  \n",
              "4      NA                  \n",
              "5  634993                  "
            ]
          },
          "metadata": {}
        }
      ]
    },
    {
      "cell_type": "code",
      "source": [
        "## Selecting specific columns to be used in the regression analysis and filling in NaN's with zeros.\n",
        "df4$Salaries..Wages..and.Fees.Payable <- ifelse(is.na(df4$Salaries..Wages..and.Fees.Payable), 0, df4$Salaries..Wages..and.Fees.Payable)\n",
        "df4$FTE...Employees.on.Payroll <- ifelse(is.na(df4$FTE...Employees.on.Payroll), 0, df4$FTE...Employees.on.Payroll)"
      ],
      "metadata": {
        "id": "4grNZa5jOXUq"
      },
      "execution_count": 53,
      "outputs": []
    },
    {
      "cell_type": "code",
      "source": [
        "## Performing regression analysis\n",
        "model <- lm(df4$FTE...Employees.on.Payroll ~ df4$Salaries..Wages..and.Fees.Payable)\n",
        "summary(model)"
      ],
      "metadata": {
        "colab": {
          "base_uri": "https://localhost:8080/",
          "height": 323
        },
        "id": "oadSzb1MPSXV",
        "outputId": "406e072b-c647-4124-8d75-bab6aa5f6bfd"
      },
      "execution_count": 55,
      "outputs": [
        {
          "output_type": "display_data",
          "data": {
            "text/plain": [
              "\n",
              "Call:\n",
              "lm(formula = df4$FTE...Employees.on.Payroll ~ df4$Salaries..Wages..and.Fees.Payable)\n",
              "\n",
              "Residuals:\n",
              "     Min       1Q   Median       3Q      Max \n",
              "-16121.3   -440.0   -337.1     45.9  22671.7 \n",
              "\n",
              "Coefficients:\n",
              "                                       Estimate Std. Error t value Pr(>|t|)    \n",
              "(Intercept)                           5.198e+02  1.599e+01   32.50   <2e-16 ***\n",
              "df4$Salaries..Wages..and.Fees.Payable 4.863e-05  7.126e-07   68.24   <2e-16 ***\n",
              "---\n",
              "Signif. codes:  0 ‘***’ 0.001 ‘**’ 0.01 ‘*’ 0.05 ‘.’ 0.1 ‘ ’ 1\n",
              "\n",
              "Residual standard error: 1198 on 6116 degrees of freedom\n",
              "Multiple R-squared:  0.4323,\tAdjusted R-squared:  0.4322 \n",
              "F-statistic:  4656 on 1 and 6116 DF,  p-value: < 2.2e-16\n"
            ]
          },
          "metadata": {}
        }
      ]
    },
    {
      "cell_type": "code",
      "source": [
        "ggplot(df4, aes(x = df4$FTE...Employees.on.Payroll, y = df4$Salaries..Wages..and.Fees.Payable)) +\n",
        "  geom_point() +\n",
        "  geom_smooth(method = \"lm\", se = FALSE, color = \"blue\") +\n",
        "  theme_minimal()"
      ],
      "metadata": {
        "colab": {
          "base_uri": "https://localhost:8080/",
          "height": 658
        },
        "id": "nTJVB3o4P5Bq",
        "outputId": "b35559af-c184-483c-ff55-c6ff8aa9cb01"
      },
      "execution_count": 59,
      "outputs": [
        {
          "output_type": "stream",
          "name": "stderr",
          "text": [
            "Warning message:\n",
            "“\u001b[1m\u001b[22mUse of `df4$FTE...Employees.on.Payroll` is discouraged.\n",
            "\u001b[36mℹ\u001b[39m Use `FTE...Employees.on.Payroll` instead.”\n",
            "Warning message:\n",
            "“\u001b[1m\u001b[22mUse of `df4$Salaries..Wages..and.Fees.Payable` is discouraged.\n",
            "\u001b[36mℹ\u001b[39m Use `Salaries..Wages..and.Fees.Payable` instead.”\n",
            "Warning message:\n",
            "“\u001b[1m\u001b[22mUse of `df4$FTE...Employees.on.Payroll` is discouraged.\n",
            "\u001b[36mℹ\u001b[39m Use `FTE...Employees.on.Payroll` instead.”\n",
            "Warning message:\n",
            "“\u001b[1m\u001b[22mUse of `df4$Salaries..Wages..and.Fees.Payable` is discouraged.\n",
            "\u001b[36mℹ\u001b[39m Use `Salaries..Wages..and.Fees.Payable` instead.”\n",
            "\u001b[1m\u001b[22m`geom_smooth()` using formula = 'y ~ x'\n"
          ]
        },
        {
          "output_type": "display_data",
          "data": {
            "text/plain": [
              "plot without title"
            ],
            "image/png": "[encoded data removed]"
          },
          "metadata": {
            "image/png": {
              "width": 420,
              "height": 420
            }
          }
        }
      ]
    }
  ]
}